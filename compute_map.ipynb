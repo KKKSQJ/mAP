{
 "cells": [
  {
   "cell_type": "code",
   "execution_count": 1,
   "id": "f8225fa7",
   "metadata": {},
   "outputs": [],
   "source": [
    "import numpy as np\n",
    "import pandas as pd\n",
    "from tqdm.notebook import tqdm\n",
    "import matplotlib.pyplot as plt\n",
    "from IPython.display import Image"
   ]
  },
  {
   "cell_type": "code",
   "execution_count": 2,
   "id": "0670ddb0",
   "metadata": {
    "tags": []
   },
   "outputs": [
    {
     "data": {
      "image/png": "[encoded data removed]",
      "text/plain": [
       "<IPython.core.display.Image object>"
      ]
     },
     "execution_count": 2,
     "metadata": {},
     "output_type": "execute_result"
    }
   ],
   "source": [
    "a =Image(\"D:\\practice\\博客\\目标检测\\img\\lip_image005.png\")\n",
    "a"
   ]
  },
  {
   "cell_type": "code",
   "execution_count": 3,
   "id": "e3d75223-2ab1-4eaa-869b-8c3bc15b4855",
   "metadata": {},
   "outputs": [],
   "source": [
    "# from PIL import Image\n",
    "# b = Image.open(r\"D:\\practice\\博客\\目标检测\\img\\lip_image005.png\")\n",
    "# b"
   ]
  },
  {
   "cell_type": "code",
   "execution_count": 4,
   "id": "5d637646-12c8-436b-8108-345e243d2354",
   "metadata": {},
   "outputs": [
    {
     "name": "stdout",
     "output_type": "stream",
     "text": [
      "query box : [ 0.  0. 10. 10.]\n",
      "box : [[ 5.  5. 15. 15.]\n",
      " [ 0.  0.  9.  9.]\n",
      " [ 1.  1.  8.  8.]]\n"
     ]
    },
    {
     "data": {
      "text/plain": [
       "10.0"
      ]
     },
     "execution_count": 4,
     "metadata": {},
     "output_type": "execute_result"
    }
   ],
   "source": [
    "query_box = [0,0,10,10]\n",
    "boxes = [(5,5,15,15),(0,0,9,9),(1,1,8,8)]\n",
    "query_box = np.array(query_box,dtype=np.float)\n",
    "boxes = np.array(boxes,dtype=np.float)\n",
    "print(\"query box : {}\".format(query_box))\n",
    "print(\"box : {}\".format(boxes))\n",
    "query_box[2]"
   ]
  },
  {
   "cell_type": "code",
   "execution_count": 5,
   "id": "a02f650b-6176-4551-a876-ab1cd97efb92",
   "metadata": {},
   "outputs": [
    {
     "data": {
      "text/plain": [
       "9.0"
      ]
     },
     "execution_count": 5,
     "metadata": {},
     "output_type": "execute_result"
    }
   ],
   "source": [
    "boxes[1,2]"
   ]
  },
  {
   "cell_type": "code",
   "execution_count": 6,
   "id": "307e18d6-cdd2-4f86-a041-bfefebf2758e",
   "metadata": {},
   "outputs": [
    {
     "data": {
      "text/plain": [
       "9.0"
      ]
     },
     "execution_count": 6,
     "metadata": {},
     "output_type": "execute_result"
    }
   ],
   "source": [
    "boxes[1][2]"
   ]
  },
  {
   "cell_type": "code",
   "execution_count": 7,
   "id": "71e99655",
   "metadata": {
    "tags": []
   },
   "outputs": [],
   "source": [
    "# compute all the IOUs between the N annostation boxes and the query_boxes\n",
    "def compute_iou(boxes, query_boxes):\n",
    "    \"\"\"\n",
    "    Args:\n",
    "        boxes:       (N,4) ndarray of float\n",
    "        query_boxes: (4)   ndarray of float  xmin,ymin,xmax,ymax\n",
    "     Returns\n",
    "        overlaps:    (N)   ndarray of overlap between boxes and query_boxes\n",
    "    \"\"\"\n",
    "    N = boxes.shape[0]\n",
    "    ious = np.zeros((N),dtype=np.float64)\n",
    "    query_box_area=(\n",
    "        (query_boxes[2]-query_boxes[0])*(query_boxes[3]-query_boxes[1])\n",
    "    )\n",
    "    for i in range(N):\n",
    "        iw=(\n",
    "#             min(boxes[i][2],query_boxes[2])-max(boxes[i][0],query_boxes[0])\n",
    "             min(boxes[i,2],query_boxes[2])-max(boxes[i,0],query_boxes[0])\n",
    "        )\n",
    "        if iw>0:  \n",
    "            ih=(\n",
    "#                 min(boxes[i][3],query_boxes[3])-max(boxes[i][1],query_boxes[1])\n",
    "                 min(boxes[i,3],query_boxes[3])-max(boxes[i,1],query_boxes[1])\n",
    "            )\n",
    "            if ih>0:\n",
    "                oa=iw*ih\n",
    "                box_area = np.float64(((boxes[i,2]-boxes[i,0])*(boxes[i,3]-boxes[i,1])))\n",
    "                ua = query_box_area+box_area-oa\n",
    "                ious[i]=oa/ua\n",
    "    return ious"
   ]
  },
  {
   "cell_type": "code",
   "execution_count": 8,
   "id": "ba6d9d71-2c34-4c4c-b57e-769ea106f590",
   "metadata": {},
   "outputs": [
    {
     "data": {
      "text/plain": [
       "array([0.14285714, 0.81      , 0.49      ])"
      ]
     },
     "execution_count": 8,
     "metadata": {},
     "output_type": "execute_result"
    }
   ],
   "source": [
    "ious = compute_iou(boxes,query_box)\n",
    "ious"
   ]
  },
  {
   "cell_type": "code",
   "execution_count": 9,
   "id": "2d739bcb-5c7b-44ac-b11d-8bad300a3953",
   "metadata": {},
   "outputs": [],
   "source": [
    "# check if true positive or false positive\n",
    "def check_if_true_or_false_positivate(annotations,detections,iou_threshold):\n",
    "    \"\"\"\n",
    "    All detected bounding boxes will be assigned to the GT box that has the largest IOU. \n",
    "    Then check whether they are TP or FP by iou_threshold.\n",
    "    Here, if multiple detected bounding boxes are mapped to the same GT box, then only the highest scored bounding box needs to be assigned to that GT. \n",
    "    So note that the detections passed to this function need to be pre-sorted.\n",
    "    \n",
    "    Args:\n",
    "        annotations:      (N,4) ndarray of float\n",
    "        detections:       (M,5) ndarray of float  xmin,ymin,xmax,ymax,score\n",
    "        iou_threshuold    default:0.5  float\n",
    "        \n",
    "    Returns\n",
    "        scores：          (M)   list of detection boxs's score\n",
    "        false_positivate  (M)   list if detection box is FP,value=1.[1,0,0]\n",
    "        true_positivate:  (M)   list if detection box id TP,value=1.[0,1,1]\n",
    "    \"\"\"\n",
    "    annotations = np.array(annotations,dtype=np.float64)\n",
    "    scores,false_positivate,true_positivate = [],[],[]\n",
    "    detected_annotations = [] # a GT box should be mapped only one predicted box at most\n",
    "    for query_box in detections:\n",
    "        scores.append(query_box[4])\n",
    "        if len(annotations)==0:\n",
    "            false_positivate.append(1)\n",
    "            true_positivate.append(0)\n",
    "            continue\n",
    "        ious = compute_iou(boxes=annotations,query_boxes=query_box[:4])\n",
    "        assigned_annotation = np.argmax(ious)   # assigned anno index \n",
    "        max_iou = ious[assigned_annotation]\n",
    "        if max_iou>=iou_threshold and assigned_annotation not in detected_annotations:\n",
    "            true_positivate.append(1)\n",
    "            false_positivate.append(0)\n",
    "            detected_annotations.append(assigned_annotation)\n",
    "        else:\n",
    "            false_positivate.append(1)\n",
    "            true_positivate.append(0)\n",
    "    return scores,false_positivate,true_positivate"
   ]
  },
  {
   "cell_type": "code",
   "execution_count": 10,
   "id": "d0529e5d-6db4-4671-8600-d90273649a4d",
   "metadata": {},
   "outputs": [
    {
     "name": "stdout",
     "output_type": "stream",
     "text": [
      "a= [1. 2. 3. 4. 5.]\n",
      "b= 4\n",
      "c= 5.0\n"
     ]
    }
   ],
   "source": [
    "a = np.array([1,2,3,4,5],dtype=np.float64)\n",
    "b = np.argmax(a)\n",
    "c = np.max(a)\n",
    "print(\"a=\",a)\n",
    "print(\"b=\",b)\n",
    "print(\"c=\",c)"
   ]
  },
  {
   "cell_type": "code",
   "execution_count": 11,
   "id": "1bfd5342-17b1-4ec8-bb8d-96b0bb5f935d",
   "metadata": {},
   "outputs": [
    {
     "name": "stdout",
     "output_type": "stream",
     "text": [
      "[1. 1. 6.]\n",
      "[2. 2. 4.]\n",
      "[4. 9. 5.]\n",
      "anno: [[ 1.  1.  6.  6.]\n",
      " [ 2.  2.  4.  5.]\n",
      " [ 4.  9.  5. 19.]]\n",
      "len of anno: 3\n",
      "detec: [[1.  1.  5.  6.  0.5]\n",
      " [2.  2.  4.  5.  0.8]]\n",
      "size of detec: 10\n"
     ]
    }
   ],
   "source": [
    "anno = np.array([(1,1,6,6),(2,2,4,5),(4,9,5,19)],dtype=np.float64)\n",
    "detect = np.array([[1,1,5,6,0.5],[2,2,4,5,0.8]],dtype=np.float64)\n",
    "for i in anno:\n",
    "    print(i[:-1])\n",
    "print(\"anno:\",anno)\n",
    "print(\"len of anno:\",len(anno))\n",
    "print(\"detec:\",detect)\n",
    "print(\"size of detec:\",detect.size)"
   ]
  },
  {
   "cell_type": "code",
   "execution_count": 12,
   "id": "e71a1dd2-bc23-41a4-ac6b-c4db0b818068",
   "metadata": {},
   "outputs": [
    {
     "name": "stdout",
     "output_type": "stream",
     "text": [
      "[0.5, 0.8]\n",
      "[0, 0]\n",
      "[1, 1]\n"
     ]
    }
   ],
   "source": [
    "scores,false_positivate,true_positivate=check_if_true_or_false_positivate(anno,detect,0.1)\n",
    "print(scores)\n",
    "print(false_positivate)\n",
    "print(true_positivate)"
   ]
  },
  {
   "cell_type": "code",
   "execution_count": 13,
   "id": "4f10a183-353a-4efb-8bdc-5d2c44b0a3bb",
   "metadata": {},
   "outputs": [
    {
     "data": {
      "image/png": "[encoded data removed]",
      "text/plain": [
       "<IPython.core.display.Image object>"
      ]
     },
     "execution_count": 13,
     "metadata": {},
     "output_type": "execute_result"
    }
   ],
   "source": [
    "ap = Image(r\"D:\\practice\\博客\\目标检测\\img\\RP.png\")\n",
    "ap"
   ]
  },
  {
   "cell_type": "code",
   "execution_count": 14,
   "id": "2fb51176-3a12-4b6f-a48b-87b534575073",
   "metadata": {},
   "outputs": [],
   "source": [
    "# Average Precision Calculation\n",
    "def compute_ap(recall,precision):\n",
    "    \"\"\" \n",
    "    Compute the average precision, given the recall and precision curves.\n",
    "    # Arguments\n",
    "        recall:    The recall curve (list).\n",
    "        precision: The precision curve (list).\n",
    "    # Returns\n",
    "        The average precision as computed in py-faster-rcnn.\n",
    "    \"\"\"\n",
    "    mrec = np.concatenate(([0.],recall,[1.]))\n",
    "    mpre = np.concatenate(([0.],precision,[0.]))   # 参考上图的RP曲线，看两端\n",
    "    \n",
    "    # compute the precision envelope\n",
    "    for i in range(mpre.size-1,0,-1):\n",
    "        mpre[i-1]=np.maximum(mpre[i-1],mpre[i])\n",
    "    \n",
    "    i=np.where(mrec[1:]!=mrec[:-1])[0]      # where X axis (recall) changes value\n",
    "\n",
    "    ap = np.sum((mrec[i+1]-mrec[i])*mpre[i+1])\n",
    "    return ap"
   ]
  },
  {
   "cell_type": "code",
   "execution_count": 15,
   "id": "a1c84eae-79df-46bf-abee-a5689755a075",
   "metadata": {},
   "outputs": [
    {
     "data": {
      "text/plain": [
       "array([0.        , 1.        , 0.5       , 0.66666667, 0.        ])"
      ]
     },
     "execution_count": 15,
     "metadata": {},
     "output_type": "execute_result"
    }
   ],
   "source": [
    "p = np.concatenate(([0.],[1.0,0.5,2/3],[0.]))\n",
    "p"
   ]
  },
  {
   "cell_type": "code",
   "execution_count": 16,
   "id": "664929e2-767a-4abe-b28e-7ef512802c6f",
   "metadata": {},
   "outputs": [
    {
     "data": {
      "text/plain": [
       "array([0.        , 0.33333333, 0.33333333, 0.66666667, 1.        ])"
      ]
     },
     "execution_count": 16,
     "metadata": {},
     "output_type": "execute_result"
    }
   ],
   "source": [
    "r  = np.concatenate(([0.],[1/3,1/3,2/3],[1.]))\n",
    "r"
   ]
  },
  {
   "cell_type": "code",
   "execution_count": 17,
   "id": "17a9fa70-cd8c-4355-9258-f16dec7d39ff",
   "metadata": {},
   "outputs": [
    {
     "name": "stdout",
     "output_type": "stream",
     "text": [
      "i:4\n",
      "p:0.6666666666666666\n",
      "i:3\n",
      "p:0.6666666666666666\n",
      "i:2\n",
      "p:1.0\n",
      "i:1\n",
      "p:1.0\n",
      "p:[1.         1.         0.66666667 0.66666667 0.        ]\n",
      "i:[0 2 3]\n"
     ]
    }
   ],
   "source": [
    "for i in range(p.size-1,0,-1):\n",
    "    print(\"i:{}\".format(i))\n",
    "    p[i-1]=np.maximum(p[i-1],p[i])\n",
    "    print(\"p:{}\" .format(p[i-1]))\n",
    "i = np.where(r[1:]!=r[:-1])[0]\n",
    "print(\"p:{}\".format(p))\n",
    "print(\"i:{}\".format(i))"
   ]
  },
  {
   "cell_type": "code",
   "execution_count": 18,
   "id": "37c55237-e77e-4a12-ab04-a811a88c2a30",
   "metadata": {},
   "outputs": [
    {
     "data": {
      "text/plain": [
       "0.554779"
      ]
     },
     "execution_count": 18,
     "metadata": {},
     "output_type": "execute_result"
    }
   ],
   "source": [
    "pre =[1.0,0.5,0.667]\n",
    "rec = [0.33,0.33,0.667]\n",
    "ap = compute_ap(rec,pre)\n",
    "ap"
   ]
  },
  {
   "cell_type": "code",
   "execution_count": 19,
   "id": "12d07b48-0413-4b5f-a224-df32c121c77e",
   "metadata": {},
   "outputs": [],
   "source": [
    "# get ground truth box with image id and label\n",
    "def get_real_annotations(table):\n",
    "    res = dict()\n",
    "    ids = table['ImageID'].value.astype(np.str)\n",
    "    labels = table['LabelName'].values.astype(np.str)\n",
    "    xmin = table['XMin'].values.astype(np.float32)\n",
    "    xmax = table['XMax'].values.astype(np.float32)\n",
    "    ymin = table['YMin'].values.astype(np.float32)\n",
    "    ymax = table['YMax'].values.astype(np.float32)\n",
    "    \n",
    "    for i in range(len(ids)):\n",
    "        id = ids[i]\n",
    "        label = labels[i]\n",
    "        if id not in res:\n",
    "            res[id] = dict()\n",
    "        if label not in res[id]:\n",
    "            res[id][label] = []\n",
    "        box = [xmin[i], ymin[i], xmax[i], ymax[i]]\n",
    "        res[id][label].append(box)\n",
    "    \n",
    "    return res\n",
    "\n",
    "def get_detections(table):\n",
    "    res = dict()\n",
    "    ids = table['ImageID'].values.astype(np.str)\n",
    "    labels = table['LabelName'].values.astype(np.str)\n",
    "    scores = table['Conf'].values.astype(np.float32)\n",
    "    xmin = table['XMin'].values.astype(np.float32)\n",
    "    xmax = table['XMax'].values.astype(np.float32)\n",
    "    ymin = table['YMin'].values.astype(np.float32)\n",
    "    ymax = table['YMax'].values.astype(np.float32)\n",
    "\n",
    "    for i in range(len(ids)):\n",
    "        ida = ids[i]\n",
    "        label = labels[i]\n",
    "        if id not in res:\n",
    "            res[id] = dict()\n",
    "        if label not in res[id]:\n",
    "            res[id][label] = []\n",
    "        box = [xmin[i], ymin[i], xmax[i], ymax[i], scores[i]]\n",
    "        res[ida][label].append(box)\n",
    "    return res"
   ]
  },
  {
   "cell_type": "code",
   "execution_count": 25,
   "id": "dff6c413-26a6-4dfe-835b-938f3208c086",
   "metadata": {},
   "outputs": [],
   "source": [
    "# mean Average Precision Calculation\n",
    "def mean_average_precision_for_boxes(ann,pred,iou_threshould=0.5, exclude_not_in_annotations=False, verbose=True):\n",
    "    \"\"\"\n",
    "    :param ann: path to CSV-file with annotations or numpy array of shape (N, 6)\n",
    "    :param pred: path to CSV-file with predictions (detections) or numpy array of shape (N, 7)\n",
    "    :param iou_threshold: IoU between boxes which count as 'match'. Default: 0.5\n",
    "    :param exclude_not_in_annotations: exclude image IDs which are not exist in annotations. Default: False\n",
    "    :param verbose: print detailed run info. Default: True\n",
    "    :return: tuple, where first value is mAP and second values is dict with AP for each class.\n",
    "    \"\"\"\n",
    "    valid = pd.DataFrame(ann, columns=['ImageID', 'LabelName', 'XMin', 'XMax', 'YMin', 'YMax'])\n",
    "    preds = pd.DataFrame(pred, columns=['ImageID', 'LabelName', 'Conf', 'XMin', 'XMax', 'YMin', 'YMax'])\n",
    "    ann_unique = valid['ImageID'].unique()\n",
    "    preds_unique = preds['ImageID'].unique()\n",
    "    \n",
    "    if verbose:\n",
    "        print('Number of files in annotations: {}'.format(len(ann_unique)))\n",
    "        print('Number of files in predictions: {}'.format(len(preds_unique)))\n",
    "    \n",
    "    # Exclude files not in annotations!\n",
    "    if exclude_not_in_annotations:\n",
    "        preds = preds[preds['ImageID'].isin(ann_unique)]\n",
    "        preds_unique = preds['ImageID'].unique()\n",
    "        if verbose:\n",
    "            print('Number of files in detection after reduction: {}'.format(len(preds_unique)))\n",
    "\n",
    "    unique_classes = valid['LabelName'].unique().astype(np.str)\n",
    "    if verbose:\n",
    "        print('Unique classes: {}'.format(len(unique_classes)))\n",
    "        \n",
    "    all_detections = get_detections(preds)\n",
    "    all_annotations = get_real_annotations(valid)\n",
    "    if verbose:\n",
    "        print('Detections length: {}'.format(len(all_detections)))\n",
    "        print('Annotations length: {}'.format(len(all_annotations)))\n",
    "    \n",
    "    average_precisions = {}\n",
    "    for zz, label in enumerate(sorted(unique_classes)):\n",
    "        # Negative class\n",
    "        if str(label) == 'nan':\n",
    "            continue\n",
    "\n",
    "        false_positives = []\n",
    "        true_positives = []\n",
    "        scores = []\n",
    "        num_annotations = 0.0\n",
    "\n",
    "        for i in range(len(ann_unique)):\n",
    "            detections = []\n",
    "            annotations = []\n",
    "            id = ann_unique[i]\n",
    "            if id in all_detections:\n",
    "                if label in all_detections[id]:\n",
    "                    detections = all_detections[id][label]\n",
    "            if id in all_annotations:\n",
    "                if label in all_annotations[id]:\n",
    "                    annotations = all_annotations[id][label]\n",
    "\n",
    "            if len(detections) == 0 and len(annotations) == 0:\n",
    "                continue\n",
    "\n",
    "            num_annotations += len(annotations)\n",
    "            scr, fp, tp = cehck_if_true_or_false_positive(annotations, detections, iou_threshold)\n",
    "\n",
    "            scores += scr\n",
    "            false_positives += fp\n",
    "            true_positives += tp\n",
    "\n",
    "        if num_annotations == 0:\n",
    "            average_precisions[label] = 0, 0\n",
    "            continue\n",
    "\n",
    "        false_positives = np.array(false_positives)\n",
    "        true_positives = np.array(true_positives)\n",
    "        scores = np.array(scores)\n",
    "\n",
    "        # sort by score\n",
    "        indices = np.argsort(-scores)\n",
    "        false_positives = false_positives[indices]\n",
    "        true_positives = true_positives[indices]\n",
    "\n",
    "        # compute false positives and true positives\n",
    "        false_positives = np.cumsum(false_positives)\n",
    "        true_positives = np.cumsum(true_positives)\n",
    "\n",
    "        # compute recall and precision\n",
    "        recall = true_positives / num_annotations\n",
    "        precision = true_positives / np.maximum(true_positives + false_positives, np.finfo(np.float64).eps)\n",
    "\n",
    "        # compute average precision\n",
    "        average_precision = compute_ap(recall, precision)\n",
    "        average_precisions[label] = average_precision, num_annotations, precision, recall\n",
    "        if verbose:\n",
    "            s1 = \"{:30s} | {:.6f} | {:7d}\".format(label, average_precision, int(num_annotations))\n",
    "            print(s1)\n",
    "        present_classes = 0\n",
    "        precision = 0\n",
    "        for label, (average_precision, num_annotations, _, _) in average_precisions.items():\n",
    "            if num_annotations > 0:\n",
    "                present_classes += 1\n",
    "                precision += average_precision\n",
    "        mean_ap = precision / present_classes\n",
    "        if verbose:\n",
    "            print('mAP: {:.6f}'.format(mean_ap))\n",
    "        return mean_ap, average_precisions"
   ]
  },
  {
   "cell_type": "code",
   "execution_count": null,
   "id": "8c92972c-cff5-4c6b-b7b3-61340f96cde9",
   "metadata": {},
   "outputs": [],
   "source": [
    "\"\"\"\n",
    "置信度的作用\n",
    "1.在check_if_true_or_false_positive()之前，检测框需要靠置信度进行排序\n",
    "2.在计算Average Precision之前，列表true_positives和列表false_positives需要靠置信度进行排序\n",
    "\n",
    "更低的置信度阈值，map会更高\n",
    "\"\"\""
   ]
  }
 ],
 "metadata": {
  "kernelspec": {
   "display_name": "Python 3.8 (XPython)",
   "language": "python",
   "name": "xpython"
  },
  "language_info": {
   "file_extension": ".py",
   "mimetype": "text/x-python",
   "name": "python",
   "version": "3.8.10"
  },
  "toc-autonumbering": false,
  "toc-showcode": true,
  "toc-showmarkdowntxt": true,
  "toc-showtags": true
 },
 "nbformat": 4,
 "nbformat_minor": 5
}
